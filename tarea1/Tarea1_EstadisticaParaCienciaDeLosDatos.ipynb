{
  "nbformat": 4,
  "nbformat_minor": 0,
  "metadata": {
    "colab": {
      "name": "Tarea1_EstadisticaParaCienciaDeLosDatos.ipynb",
      "provenance": [],
      "collapsed_sections": []
    },
    "kernelspec": {
      "name": "python3",
      "display_name": "Python 3"
    }
  },
  "cells": [
    {
      "cell_type": "markdown",
      "metadata": {
        "id": "jdtaAwa8XzNA"
      },
      "source": [
        "# Estadística para Ciencia de los Datos\n",
        "# Tarea #1\n"
      ]
    },
    {
      "cell_type": "markdown",
      "metadata": {
        "id": "b7yZKbBswGSC"
      },
      "source": [
        "Realice los siguientes ejercicios y envíe sus respuestas, en un notebook de google colab, a través de TEC Digital a más tardar el domingo 11 de octubre a las 10:00 PM. No se aceptarán entregas tardías.\n",
        "\n",
        "Desarrolle todos los ejercicios con el mayor nivel de detalle posible. Se espera que el desarrollo algebraico sea formal. No será válido únicamente dar respuestas en prosa a las preguntas.\n",
        "\n",
        "Para la parte 1 de la tarea es válido entregar las respuestas  como un archivo PDF que sea un escaneo de la solución en papel de los ejercicios. Los estudiantes son responsables por asegurar que el archivo enviado sea legible.\n",
        "\n",
        "Para la parte 2 de la tarea se espera que el código pueda ejecutarse con visualizaciones apropiadas, sino no se asignará puntaje."
      ]
    },
    {
      "cell_type": "markdown",
      "metadata": {
        "id": "5e6Nc6WZTTmc"
      },
      "source": [
        "## Parte 1\n",
        "\n",
        "1.   Una agencia de bienes raíces tiene una base de datos de propiedades vendidas en la cuál rastrearon la cantidad de días que duró en concretarse la venta, además de su precio de venta (ver tabla). Basado en los datos responda los siguientes apartados. Responda todos los puntos utilizando ecuaciones únicamente.\n",
        "\n",
        " * Si $A$ es el evento de vender una casa en más de 90 días, estime la probabilidad de $A$ (5 puntos)\n",
        " * Si $B$ es el evento de vender una casa en menos de 50,000, estime la probablidad de $B$ (5 puntos)\n",
        " * ¿Cuál es la probabilidad de que $A$ y $B$ ocurran juntos? (5 puntos)\n",
        " * Si una casa se define que tiene un precio de menos de \\$50,000, ¿cuál es la probabilidad que tarde 90 o menos días en venderse? (5 puntos)\n",
        " * ¿Se puede considerar que los eventos $A$ y $B$ son independientes? (Demuéstrelo matemáticamente) (10 puntos)\n",
        "  \n",
        "|| Menos de 30 días | De 31 a 90 | Más de 90 | Total\n",
        "|--- | --- | --- | --- |---\n",
        "|**Menos de \\$50,000**|50|40|10|100\n",
        "|**50,000 a 99,999**|20|150|80|250\n",
        "|**100,000 a 149,999**|20|280|100|400\n",
        "|**Más de 150,000**|10|10|30|50\n",
        "|**Total**|100|480|220|800\n",
        "\n",
        "___\n",
        "La probabilidad de vender una casa en más de 90 días, sin importar el precio se calcula utilizando la regla de la suma (columna):\n",
        "\n",
        "$p\\left(X=x_{i}\\right)=p\\left(X=x_{i},Y=y_{1},\\ldots,y_{L}\\right)=\\sum_{j=1}^{L}p\\left(X=x_{i},Y=y_{j}\\right)=\\frac{c_{i}}{N}$\n",
        "\n",
        "$p(A)=\\frac{10+80+100+30}{800}=0.275$\n",
        "\n",
        "De manera similar, la probabilidad de vender una casa en menos de 50,000 sin importart el número de días (fila):\n",
        "\n",
        "$p(B)=\\frac{50+40+10}{800}=0.125$\n",
        "\n",
        "Para calcular $p(A,B)$, se toma en cuenta el dato de la casilla de la tabla donde se cumplen las dos condiciones a la vez:\n",
        "\n",
        "$p(A,B) = \\frac{10}{800} = 0.0125$\n",
        "\n",
        "Si una casa se define de menos de $50000, la prob. de que tarde menos de 90 días está dada por (fórmula 3 de la lección 1, pero aplicada a fila):\n",
        "\n",
        "$p(A | B) = \\frac{n_{i,j}}{r_j}=\\frac{10}{100}=0.1$\n",
        "\n",
        "Si dos variables $A$ y $B$ son independientes, se deben cumplir las siguientes condiciones:\n",
        "\n",
        "$p(X,Y) = p(X)p(Y)$ que es equivalente a $p(Y) = p(Y|X)$\n",
        "\n",
        "En nuestro caso:\n",
        "\n",
        "$p(A,B) = p(A)p(B) \\implies 0.0125 \\ne 0.275 \\times 0.125$\n",
        "\n",
        "$p(A) = p(A|B) \\implies 0.275 \\ne 0.1$\n",
        "\n",
        "Por lo que se demuestra que las variables no son independientes.\n",
        "\n",
        "___\n",
        "\n",
        "2.   Suponga que se desea analizar la relación entre tres variables aleatorias $X_{1},X_{2}$ y $X_{3}$, para las cuales se han recabado los siguientes arreglos de $N=3$ observaciones:\n",
        " * Calcule la varianza de cada variable aleatoria (muestre todos los pasos) (10 puntos)\n",
        " * Calcule la matriz de correlación de Pearson (muestre todos los pasos) (10 puntos)\n",
        "\n",
        "\\begin{equation}\n",
        "\\begin{array}{c}\n",
        "h_{1}=\\begin{bmatrix}3 & 15 & 21\\end{bmatrix}\\\\\n",
        "h_{2}=\\begin{bmatrix}1 & 5 & 6\\end{bmatrix}\\\\\n",
        "h_{3}=\\begin{bmatrix}13 & 7 & 3\\end{bmatrix}\n",
        "\\end{array}\n",
        "\\end{equation}\n",
        "\n",
        "___\n",
        "\n",
        "## Varianza\n",
        "$$\n",
        "U =\n",
        "\\begin{bmatrix}3 & 15 & 21 \\\\\n",
        "1 & 5 & 6\\\\\n",
        "13 & 7 & 3\n",
        "\\end{bmatrix}\n",
        "$$\n",
        "\n",
        "Se procede entonces a calcular $\\sigma_{X_{1}}^{2}$, $\\sigma_{X_{2}}^{2}$ y $\\sigma_{X_{3}}^{2}$, teniendo en cuenta que $\\overline{\\mu}_{X_{1}}=13$, $\\overline{\\mu}_{X_{2}}=4$ y $\\overline{\\mu}_{X_{3}}=23/3$.\n",
        "\n",
        "Si únicamente se tiene un estimado de la media $\\hat \\mu$, y se toma la suposición de que los datos provienen de una distribución normal, la varianza se estima de la siguiente forma: \n",
        "\n",
        "$$\n",
        "\\sigma_{X}^{2}\\cong\\frac{1}{N-1}\\sum_{i=1}^{N}\\left(x_i-\\hat \\mu_{X}\\right)^{2}\n",
        "$$\n",
        "\n",
        "$$\n",
        "\\sigma_{X_1}^{2} = \\frac{1}{3-1} \\left(  \n",
        "    \\left( 3-13 \\right)^2 +\n",
        "    \\left( 15-13 \\right)^2 +\n",
        "    \\left( 21-13 \\right)^2\n",
        "\\right) \n",
        "= \\frac{1}{2} \\left(  \n",
        "    100 +\n",
        "    4 +\n",
        "    64\n",
        "\\right) = 84\n",
        "$$\n",
        "\n",
        "$$\n",
        "\\sigma_{X_2}^{2} = \\frac{1}{3-1} \\left(  \n",
        "    \\left( 1-4 \\right)^2 +\n",
        "    \\left( 5-4 \\right)^2 +\n",
        "    \\left( 6-4 \\right)^2\n",
        "\\right) \n",
        "= \\frac{1}{2} \\left(  \n",
        "    9 +\n",
        "    1 +\n",
        "    4\n",
        "\\right) = 7\n",
        "$$\n",
        "\n",
        "$$\n",
        "\\sigma_{X_3}^{2} = \\frac{1}{3-1} \\left(  \n",
        "    \\left( 13-23/3 \\right)^2 +\n",
        "    \\left( 7-23/3 \\right)^2 +\n",
        "    \\left( 3-23/3 \\right)^2\n",
        "\\right) \\\\\n",
        "= \\frac{1}{2} \\left(  \n",
        "    \\left( \\frac {39 - 23} {3} \\right)^2 + \n",
        "    \\left( \\frac {21 - 23} {3} \\right)^2 + \n",
        "    \\left( \\frac {9 - 23} {3} \\right)^2\n",
        "\\right) = \\\\\n",
        "= \\frac{1}{2} \\left(  \n",
        "    28.444 + \n",
        "    0.444 + \n",
        "    21.778\n",
        "\\right) = 25.333\n",
        "$$"
      ]
    },
    {
      "cell_type": "markdown",
      "metadata": {
        "id": "Oluyb_zK7P5r"
      },
      "source": [
        "##  Matriz de correlación de Pearson \n",
        "\n",
        "$$\n",
        "\\begin{bmatrix}\\rho_{X_{1},X_{1}} & \\rho_{X_{1},X_{2}} & \\rho_{X_{1},X_{3}} \\\\\n",
        "\\rho_{X_{2},X_{1}} & \\rho_{X_{2},X_{2}} & \\rho_{X_{2},X_{3}} \\\\\n",
        "\\rho_{X_{3},X_{1}} & \\rho_{X_{3},X_{2}} & \\rho_{X_{3},X_{3}}\n",
        "\\end{bmatrix}\n",
        "$$\n",
        "\n",
        "Con:\n",
        "\\begin{equation}\n",
        "\\rho_{X_{i},X_{j}}=\\frac{\\textrm{cov}\\left(X_{i},X_{j}\\right)}{\\sigma_{X_{i}}\\sigma_{X_{j}}} =\n",
        "\\frac { \\frac{1}{N-1}\\sum_{k=1}^{N}\\left(x_{ik}-\\overline{\\mu}_{X_i}\\right)\\left(x_{jk}-\\overline{\\mu}_{X_j}\\right) }\n",
        "{\\sigma_{X_{i}}\\sigma_{X_{j}}}\n",
        "\\end{equation}\n",
        "\n",
        "$\\rho_{X_{1},X_{1}} = 1$ = $\\rho_{X_{2},X_{2}} = \\rho_{X_{3},X_{3}} $\n",
        "\n",
        "$\n",
        "\\Sigma_{X_{1},X_{2}} = \\frac{1}{3-1} \\left[ \n",
        "    \\left( 13-3\\right) \\left( 4-1\\right) + \n",
        "    \\left( 13-15 \\right) \\left( 4-5\\right) + \n",
        "    \\left( 13-21 \\right) \\left( 4-6\\right)    \n",
        "\\right] = \\frac{1}{2} \\left( 30 + 2 + 16 \\right) = 24 \\\\\n",
        "\\implies \\rho_{X_1,X_2} = \\frac{24}{\\sqrt{84}\\sqrt{7}} = 0.9897$ \n",
        "$\n",
        "\\Sigma_{X_{1},X_{3}} = \\frac{1}{3-1} \\left[ \n",
        "    \\left( 13-3\\right) \\left( 23/3-13\\right) + \n",
        "    \\left( 13-15 \\right) \\left( 23/3-7\\right) + \n",
        "    \\left( 13-21 \\right) \\left( 23/3-3\\right)    \n",
        "\\right] = \\frac{1}{2} \\left( -53.333 - 1.333 - 37.333  \\right) = -45.9995 \\\\\n",
        "\\implies \\rho_{X_1,X_3} = \\frac{-45.9995}{\\sqrt{84}\\sqrt{25.333}} = -0.99717$ \n",
        "$\n",
        "\\Sigma_{X_{2},X_{3}} = \\frac{1}{3-1} \\left[ \n",
        "    \\left( 4-1\\right) \\left( 23/3-13\\right) + \n",
        "    \\left( 4-5 \\right) \\left( 23/3-7\\right) + \n",
        "    \\left( 4-6 \\right) \\left( 23/3-3\\right)    \n",
        "\\right] = \\frac{1}{2} \\left(  -16 -0.6667 - 9.333  \\right) = -12.999 \\\\\n",
        "\\implies \\rho_{X_2,X_3} = \\frac{-12.999}{\\sqrt{7}\\sqrt{25.333}} = -0.9762\n",
        "$\n",
        "\n",
        "$$\n",
        "\\begin{bmatrix}1 & 0.9897 & -0.99717 \\\\\n",
        "0.9897 & 1 & -0.9762 \\\\\n",
        "-0.99717 & -0.9762 & 1\n",
        "\\end{bmatrix}\n",
        "$$\n"
      ]
    },
    {
      "cell_type": "markdown",
      "metadata": {
        "id": "chgbdVm7TbL-"
      },
      "source": [
        "## Parte 2\n",
        "\n",
        "1. Muestreo de estaturas. Los estudiantes deberán programar dos funciones para crear muestras de $N$ personas (observaciones) con una sola variable aleatoria: estatura. Para efectos prácticos, ambas funciones pueden retornar una simple lista con valores numéricos que representan la estatura en centímetros de diferentes personas. Para ambas funciones deberán mostrarse ejemplos de creación de muestras con al menos 100 observaciones y mostrarlas en un histograma. La cantidad de cubetas deberá limitarse a un máximo de 9. Las funciones a programar serán las siguientes:\n",
        " * **Muestreo Uniforme**. Además de recibir la cantidad de observaciones a generar $N$, recibirá la estatura mínima y máxima  por parámetro. Por ejemplo, si se pide una distribución uniforme entre 150 y 168, las estaturas entre ese rango deberán ser igual de probables de muestrear. (5 puntos)\n",
        "  * **Muestreo Normal**. Además de recibir la cantidad de observaciones a generar $N$, recibirá la media y desviación estándar por parámetro. De esta forma, la función generará $N$ observaciones provenientes de una distribución Gaussiana con la media y desviación estándar recibidas. (5 puntos)\n",
        "  \n",
        "  \n",
        "2. **Evaluación de la función de verosimilitud normal**. Deberán proveer una función que reciba una de las **muestras** del punto 1 y evalúe la probabilidad que esa muestra provenga de una distribución normal con parámetros $\\mu$ y $\\sigma$ (que deberán ser enviados a la función). Deberán mostrar ejemplos obtenidos bajo ambos esquemas de muestreo. Por ejemplo, si se crea una muestra normal centrada en $\\mu_1=177$ con $\\sigma_1=1$ y evaluamos la verosimilitud para $\\mu=176,\\sigma=3$ podría darnos una probabilidad alta. En contraposición, al crear una muestra uniforme entre $170$ y $180$ y evaluarla para esos mismos parámetros de verosimilitud, se esperaría que sea menos probable. Todo lo anterior debe reflejarse con ejemplos que muestren el correcto funcionamiento (10 puntos)\n",
        "3. ¿Qué problema ocurre con el cálculo de la función de verosimilitud cuando aumentamos la cantidad de observaciones en varios órdenes de magnitud? y ¿Cual sería una forma de solucionar este problema? Programe una función con la posible solución y anote como comentarios las respuestas a las dos preguntas anteriores. De igual forma muestre un ejemplo de como invocar esta función (10 puntos)\n",
        "4. Implemente una función para determinar los valores óptimos para maximizar la función de verosimilitud normal, según teoría vista en clase. Suponga que la cantidad de observaciones (N) siempre es alta. Igualmente se espera que se provean ejemplos en el código para mostrar el correcto funcionamiento (10 puntos)\n",
        "5. Genere 10000 muestras de 30 observaciones cada una  provenientes de una distribución normal con $\\mu=170$ y $\\sigma=1$. Calcule el valor óptimo de la varianza para maximizar la función de verosimilitud normal de cada muestra (estimador de la varianza sesgado) y luego obtenga el valor esperado de la varianza (promedio sobre las 10000 muestras). Compare este valor esperado con el valor  de varianza usado para generar las muestras ($\\sigma^{2}=1$)  . Ejecute varias veces su código y responda ¿El valor esperado de la varianza aproxima de manera correcta la varianza original  de la distribución o es necesario hacer alguna corrección en este caso para el cálculo del valor óptimo de la varianza? Justifique su respuesta en ambos casos y explique cual sería la corrección en caso afirmativo (10 puntos)"
      ]
    },
    {
      "cell_type": "code",
      "metadata": {
        "colab": {
          "base_uri": "https://localhost:8080/",
          "height": 513
        },
        "id": "7duFPiU7SUw0",
        "outputId": "e2391fd4-c746-4c20-b956-2adb9ba91241"
      },
      "source": [
        "import numpy as np\n",
        "import matplotlib.pyplot as plt\n",
        "import math\n",
        "\n",
        "np.random.seed(1)\n",
        "\n",
        "def histograma(x, bins=9): # num de cubetas = 9\n",
        "    plt.hist(x, bins)\n",
        "    plt.show()\n",
        "\n",
        "def muestra_uniforme(low, high, size):\n",
        "    return np.random.uniform(low, high, size)\n",
        "\n",
        "def muestra_normal(m, s, size):\n",
        "    return np.random.normal(loc=m, scale=s, size=size)\n",
        "\n",
        "\n",
        "x_u = muestra_uniforme(150, 168, 100)\n",
        "histograma(x_u)\n",
        "\n",
        "x_n = muestra_normal(150+1/2*(168-150), 0.50, 100)\n",
        "histograma(x_n)"
      ],
      "execution_count": 35,
      "outputs": [
        {
          "output_type": "display_data",
          "data": {
            "image/png": "[encoded data removed]",
            "text/plain": [
              "<Figure size 432x288 with 1 Axes>"
            ]
          },
          "metadata": {
            "needs_background": "light"
          }
        },
        {
          "output_type": "display_data",
          "data": {
            "image/png": "[encoded data removed]",
            "text/plain": [
              "<Figure size 432x288 with 1 Axes>"
            ]
          },
          "metadata": {
            "needs_background": "light"
          }
        }
      ]
    },
    {
      "cell_type": "code",
      "metadata": {
        "colab": {
          "base_uri": "https://localhost:8080/"
        },
        "id": "Tn44azeN4Sbd",
        "outputId": "814d6901-1788-4957-f07d-10d764a3862e"
      },
      "source": [
        "import scipy.stats\n",
        "\n",
        "def veros_normal(x, u, s, debug=False):\n",
        "    p = 1\n",
        "    for xi in x:\n",
        "        p *= 1/math.sqrt(2*math.pi*math.pow(s,2)) * math.exp(-1/2*math.pow((xi-u)/s,2))\n",
        "    if debug:\n",
        "        print( 'scipy.stats ref', scipy.stats.norm(u, s).pdf(x).prod() )\n",
        "    return p\n",
        "    \n",
        "\n",
        "x_n = muestra_normal(177, 1, 100)\n",
        "x_u = muestra_uniforme(170, 180, 100)\n",
        "print('media', np.mean(x_n))\n",
        "print('std', np.std(x_n))\n",
        "print()\n",
        "\n",
        "print('prueba 1, mismos datos', veros_normal(x_n, np.mean(x_n), np.std(x_n)) )\n",
        "print('prueba 2, datos cercanos', veros_normal(x_n, 176, 3) )\n",
        "print('prueba 3, datos muy diferentes', veros_normal(x_u, 176, 3) )\n",
        "print()"
      ],
      "execution_count": 78,
      "outputs": [
        {
          "output_type": "stream",
          "name": "stdout",
          "text": [
            "media 177.1533702014624\n",
            "std 1.0346992246895013\n",
            "\n",
            "prueba 1, mismos datos 7.850008379523832e-64\n",
            "prueba 2, datos cercanos 3.856561404627619e-94\n",
            "prueba 3, datos muy diferentes 2.148531992274192e-110\n",
            "\n"
          ]
        }
      ]
    },
    {
      "cell_type": "markdown",
      "metadata": {
        "id": "NP2DhJhJMfvc"
      },
      "source": [
        "Al aumentar las muestras, el producto de las probabilidades individuales va ir acercándose cada vez mas a cero, por lo que podríamos llegar a tener un problema de 'underflow'. Una posible solución es usar la función log-verosimilitud:\n",
        "\n",
        "$$\n",
        "\\log p\\left(\\vec{h}|\\mu,\\sigma\\right) = \\sum_{n=1}^{M} log \\left( f(x|\\mu,\\sigma) \\right)\n",
        "$$\n",
        "\n"
      ]
    },
    {
      "cell_type": "code",
      "metadata": {
        "colab": {
          "base_uri": "https://localhost:8080/"
        },
        "id": "RoU7PA-RLwvS",
        "outputId": "60942426-2841-471f-c5c5-bfef969f16cf"
      },
      "source": [
        "def log_veros_normal(x, u, s, debug=False):\n",
        "    p = 0\n",
        "    for xi in x:\n",
        "        p += math.log( 1/math.sqrt(2*math.pi*math.pow(s,2)) * math.exp(-1/2*math.pow((xi-u)/s,2)) )\n",
        "        #print(xi, p)\n",
        "    if debug:\n",
        "        print( 'scipy.stats ref', np.log(scipy.stats.norm.pdf(x,u,s)).sum() )\n",
        "    return p    \n",
        "\n",
        "print('prueba 1, mismos datos', log_veros_normal(x_n, np.mean(x_n), np.std(x_n)) )\n",
        "print('prueba 2, datos cercanos', log_veros_normal(x_n, 176, 3) )\n",
        "print('prueba 3, datos muy diferentes', log_veros_normal(x_u, 176, 3) )"
      ],
      "execution_count": 80,
      "outputs": [
        {
          "output_type": "stream",
          "name": "stdout",
          "text": [
            "prueba 1, mismos datos -145.3049313523698\n",
            "prueba 2, datos cercanos -215.0932227828032\n",
            "prueba 3, datos muy diferentes -252.51957541470674\n"
          ]
        }
      ]
    },
    {
      "cell_type": "code",
      "metadata": {
        "colab": {
          "base_uri": "https://localhost:8080/"
        },
        "id": "ikaepZr3PnIq",
        "outputId": "c51c6610-8380-449b-ae8a-83bd2bb1bc83"
      },
      "source": [
        "def opt_val(x):\n",
        "    media = x.sum()/len(x)\n",
        "    var = (x-media)*(x-media)\n",
        "    var = var.sum()/len(x) # asumiendo tam. de la muestra suficientemente grande\n",
        "    return media, var\n",
        "\n",
        "media, var = opt_val(x_n)\n",
        "print('Valores optimos: media', media)\n",
        "print('Valores optimos: varianza', var)\n",
        "print('Valores optimos: std', math.sqrt(var))"
      ],
      "execution_count": 97,
      "outputs": [
        {
          "output_type": "stream",
          "name": "stdout",
          "text": [
            "Ejemplo 1\n",
            "Valores optimos: media 171.00091947314155\n",
            "Valores optimos: varianza 377.46460818758374\n",
            "Valores optimos: std 19.428448424606216\n"
          ]
        }
      ]
    },
    {
      "cell_type": "code",
      "metadata": {
        "colab": {
          "base_uri": "https://localhost:8080/"
        },
        "id": "tHqWhtVuR5ZE",
        "outputId": "d9900311-afb7-41ef-91a3-2608b322d100"
      },
      "source": [
        "\n",
        "for i in range(5):\n",
        "    print('--------------------------')\n",
        "    print('Ejemplo', i)\n",
        "    x_n = muestra_normal(170, 20, 100)\n",
        "    print('media', np.mean(x_n))\n",
        "    print('std', np.std(x_n))\n",
        "    print()\n",
        "    media, var = opt_val(x_n)\n",
        "    print('Valores optimos: media', media)\n",
        "    print('Valores optimos: varianza', var)\n",
        "    print('Valores optimos: std', math.sqrt(var))"
      ],
      "execution_count": 99,
      "outputs": [
        {
          "output_type": "stream",
          "name": "stdout",
          "text": [
            "--------------------------\n",
            "Ejemplo 0\n",
            "media 169.75190634991247\n",
            "std 20.275800627551433\n",
            "\n",
            "Valores optimos: media 169.75190634991247\n",
            "Valores optimos: varianza 411.10809108821513\n",
            "Valores optimos: std 20.275800627551433\n",
            "--------------------------\n",
            "Ejemplo 1\n",
            "media 172.01695550458965\n",
            "std 19.004874220578305\n",
            "\n",
            "Valores optimos: media 172.01695550458965\n",
            "Valores optimos: varianza 361.1852441400018\n",
            "Valores optimos: std 19.004874220578305\n",
            "--------------------------\n",
            "Ejemplo 2\n",
            "media 170.20803675111156\n",
            "std 21.15804675795278\n",
            "\n",
            "Valores optimos: media 170.20803675111156\n",
            "Valores optimos: varianza 447.6629426117161\n",
            "Valores optimos: std 21.15804675795278\n",
            "--------------------------\n",
            "Ejemplo 3\n",
            "media 170.39664958154745\n",
            "std 20.233132167085124\n",
            "\n",
            "Valores optimos: media 170.39664958154745\n",
            "Valores optimos: varianza 409.3796372907348\n",
            "Valores optimos: std 20.233132167085124\n",
            "--------------------------\n",
            "Ejemplo 4\n",
            "media 167.81296972634388\n",
            "std 19.214440602036728\n",
            "\n",
            "Valores optimos: media 167.81296972634388\n",
            "Valores optimos: varianza 369.19472764919755\n",
            "Valores optimos: std 19.214440602036728\n"
          ]
        }
      ]
    },
    {
      "cell_type": "markdown",
      "metadata": {
        "id": "gX82tD2aStOo"
      },
      "source": [
        "## Parte 2.5\n",
        "Genere 10000 muestras de 30 observaciones cada una  provenientes de una distribución normal con $\\mu=170$ y $\\sigma=1$. Calcule el valor óptimo de la varianza para maximizar la función de verosimilitud normal de cada muestra (estimador de la varianza sesgado) y luego obtenga el valor esperado de la varianza (promedio sobre las 10000 muestras). Compare este valor esperado con el valor  de varianza usado para generar las muestras ($\\sigma^{2}=1$)  . Ejecute varias veces su código y responda ¿El valor esperado de la varianza aproxima de manera correcta la varianza original  de la distribución o es necesario hacer alguna corrección en este caso para el cálculo del valor óptimo de la varianza? Justifique su respuesta en ambos casos y explique cual sería la corrección en caso afirmativo (10 puntos)"
      ]
    },
    {
      "cell_type": "code",
      "metadata": {
        "colab": {
          "base_uri": "https://localhost:8080/"
        },
        "id": "xIzerC32SxCA",
        "outputId": "f265bbbf-2c93-4e70-aefa-19a38ea3b247"
      },
      "source": [
        "sum_var = 0\n",
        "n_muestras = 10000\n",
        "for i in range(n_muestras):\n",
        "    if i%1000==0:\n",
        "        print('--------------------------')\n",
        "        print('Muestra', i)\n",
        "    x_n = muestra_normal(170, 1, 30)\n",
        "    media, var = opt_val(x_n)\n",
        "    sum_var += var\n",
        "    if i%1000==0:\n",
        "        print('Valores optimos: media', media)\n",
        "        print('Valores optimos: varianza', var)\n",
        "\n",
        "v_esp_var = sum_var/n_muestras\n",
        "print(v_esp_var)\n"
      ],
      "execution_count": 114,
      "outputs": [
        {
          "output_type": "stream",
          "name": "stdout",
          "text": [
            "--------------------------\n",
            "Muestra 0\n",
            "Valores optimos: media 169.9150970784155\n",
            "Valores optimos: varianza 1.0709711313173333\n",
            "--------------------------\n",
            "Muestra 1000\n",
            "Valores optimos: media 169.72051693254505\n",
            "Valores optimos: varianza 0.6858641209767861\n",
            "--------------------------\n",
            "Muestra 2000\n",
            "Valores optimos: media 170.05493506032857\n",
            "Valores optimos: varianza 0.7023859368132583\n",
            "--------------------------\n",
            "Muestra 3000\n",
            "Valores optimos: media 169.7501820738366\n",
            "Valores optimos: varianza 1.4128874419637734\n",
            "--------------------------\n",
            "Muestra 4000\n",
            "Valores optimos: media 170.0142053109961\n",
            "Valores optimos: varianza 0.8119274169416035\n",
            "--------------------------\n",
            "Muestra 5000\n",
            "Valores optimos: media 170.02641408901917\n",
            "Valores optimos: varianza 0.830781249472483\n",
            "--------------------------\n",
            "Muestra 6000\n",
            "Valores optimos: media 169.81929681273277\n",
            "Valores optimos: varianza 0.9927142730862765\n",
            "--------------------------\n",
            "Muestra 7000\n",
            "Valores optimos: media 169.9375899282409\n",
            "Valores optimos: varianza 0.9122348997010463\n",
            "--------------------------\n",
            "Muestra 8000\n",
            "Valores optimos: media 169.87475412405817\n",
            "Valores optimos: varianza 1.0385936847747999\n",
            "--------------------------\n",
            "Muestra 9000\n",
            "Valores optimos: media 170.11376653033267\n",
            "Valores optimos: varianza 1.3388200731954638\n",
            "0.9684287857886331\n"
          ]
        }
      ]
    },
    {
      "cell_type": "markdown",
      "metadata": {
        "id": "v1J2_k4-VwPb"
      },
      "source": [
        "Se corrieron varias veces las 10000 muestras y el valor de la varianza media es cercano al valor esperado pero no lo suficiente.\n",
        "\n",
        "Se procede a redefinir la funcion que calcula los valores óptimos de media y varianza, pero ahora usando el estimador no-sesgado para la varianza, es decir normalizando con N-1 en vez de sólamente N. Esto debido a que con pocas observaciones si se utiliza N, el estimador va a estar sesgado o sobreajustado a los datos (tiende a subestimar la varianza de la distribución)."
      ]
    },
    {
      "cell_type": "code",
      "metadata": {
        "colab": {
          "base_uri": "https://localhost:8080/"
        },
        "id": "1DGz-AdmVvri",
        "outputId": "5253fc88-1fb4-4b61-d278-05b003e2a319"
      },
      "source": [
        "def opt_val2(x):\n",
        "    media = x.sum()/len(x)\n",
        "    var = (x-media)*(x-media)\n",
        "    var = var.sum()/(len(x)-1) # cambio a N-1\n",
        "    return media, var\n",
        "\n",
        "\n",
        "sum_var = 0\n",
        "n_muestras = 10000\n",
        "for i in range(n_muestras):\n",
        "    if i%1000==0:\n",
        "        print('--------------------------')\n",
        "        print('Muestra', i)\n",
        "    x_n = muestra_normal(170, 1, 30)\n",
        "    media, var = opt_val2(x_n)\n",
        "    sum_var += var\n",
        "    if i%1000==0:\n",
        "        print('Valores optimos: media', media)\n",
        "        print('Valores optimos: varianza', var)\n",
        "\n",
        "v_esp_var = sum_var/n_muestras\n",
        "print(v_esp_var)\n"
      ],
      "execution_count": 116,
      "outputs": [
        {
          "output_type": "stream",
          "name": "stdout",
          "text": [
            "--------------------------\n",
            "Muestra 0\n",
            "Valores optimos: media 169.84759630457907\n",
            "Valores optimos: varianza 0.9826488379365508\n",
            "--------------------------\n",
            "Muestra 1000\n",
            "Valores optimos: media 170.08439553287502\n",
            "Valores optimos: varianza 0.7124187108967005\n",
            "--------------------------\n",
            "Muestra 2000\n",
            "Valores optimos: media 169.76389026092568\n",
            "Valores optimos: varianza 1.3270720943287067\n",
            "--------------------------\n",
            "Muestra 3000\n",
            "Valores optimos: media 170.02949806759483\n",
            "Valores optimos: varianza 1.0990705233470455\n",
            "--------------------------\n",
            "Muestra 4000\n",
            "Valores optimos: media 170.1488527740478\n",
            "Valores optimos: varianza 1.3214894941857591\n",
            "--------------------------\n",
            "Muestra 5000\n",
            "Valores optimos: media 170.02441288310132\n",
            "Valores optimos: varianza 0.958608659685478\n",
            "--------------------------\n",
            "Muestra 6000\n",
            "Valores optimos: media 170.36053557487784\n",
            "Valores optimos: varianza 1.2568736428917995\n",
            "--------------------------\n",
            "Muestra 7000\n",
            "Valores optimos: media 169.95146264980426\n",
            "Valores optimos: varianza 1.1857846445837907\n",
            "--------------------------\n",
            "Muestra 8000\n",
            "Valores optimos: media 170.01280659190158\n",
            "Valores optimos: varianza 0.7478720286967137\n",
            "--------------------------\n",
            "Muestra 9000\n",
            "Valores optimos: media 169.61246402483573\n",
            "Valores optimos: varianza 0.8848081940622408\n",
            "1.0019460650052996\n"
          ]
        }
      ]
    }
  ]
}