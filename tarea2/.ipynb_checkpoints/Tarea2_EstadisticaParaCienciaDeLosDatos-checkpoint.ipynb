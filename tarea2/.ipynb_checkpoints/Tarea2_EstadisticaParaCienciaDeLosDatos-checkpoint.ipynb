{
 "cells": [
  {
   "cell_type": "markdown",
   "metadata": {
    "id": "jdtaAwa8XzNA"
   },
   "source": [
    "# Estadística para Ciencia de los Datos\n",
    "# Tarea #2\n",
    "En esta asignación se busca que los estudiantes exploren un conjunto de datos y determinen qué distribución modela más efectivamente cada columna. En particular, se sugiere que los estudiantes utilicen el conjunto de datos provisto, pero queda abierto a la decisión de los estudiantes usar otros sets de datos.\n",
    "\n",
    "Deberán tomar en cuenta todas las distribuciones vistas en clase pero no deben limitarse a ellas. Se espera que haya un uso significativo de bibliotecas como `matplotlib` para mostrar visualmente la comparación entre los datos y las distribuciones propuestas.\n",
    "\n",
    "Los estudiantes deberán entregar a más tardar el día 25 de octubre a las 10:00PM un notebook de colab con la solución a los siguientes ejercicios:\n",
    "\n",
    "1. Elija alguna variable **cuantitativa** del set de datos y: \n",
    "  - Muestre el histograma calculado dinámicamente (e.g. con `matplotlib`) (2 puntos)\n",
    "  - Brinde al menos una propuesta de distribución candidata que modela esa columna, definiendo los parámetros de la distribución y una gráfica de la distribución paramétrica con `matplotlib` (10 puntos)\n",
    "  - Proporcione una explicación detallada de qué valores y distribuciones se probaron en el proceso y por qué se hizo la escogencia. (3 puntos)\n",
    "\n",
    "2. Seleccione 3 columnas adicionales (también cuantitativas) y realize el mismo proceso del punto 2 (45 puntos)\n",
    " - Histograma (2 puntos)\n",
    " - Parámetros y gráfica (10 puntos)\n",
    " - Justificación (3 puntos)\n",
    " \n",
    "3. Para cada columna aplicar una prueba KS  con un $\\alpha=0.05$ para determinar si la muestra en efecto sigue la misma distribución que los estudiantes plantean. Si bien es cierto en clase se abordó la prueba KS para pruebas de normalidad, estas también se pueden utilizar para cualquier otro tipo de distribución\n",
    " - 4 columnas x 10 puntos cada una (40 puntos)\n",
    " - Debe mostrarse suficiente detalle gráfico y aritmético en su respuesta\n",
    "\n",
    "\n"
   ]
  },
  {
   "cell_type": "code",
   "execution_count": 5,
   "metadata": {
    "scrolled": false
   },
   "outputs": [
    {
     "name": "stdout",
     "output_type": "stream",
     "text": [
      "shape (200, 11)\n"
     ]
    },
    {
     "data": {
      "text/html": [
       "<div>\n",
       "<style scoped>\n",
       "    .dataframe tbody tr th:only-of-type {\n",
       "        vertical-align: middle;\n",
       "    }\n",
       "\n",
       "    .dataframe tbody tr th {\n",
       "        vertical-align: top;\n",
       "    }\n",
       "\n",
       "    .dataframe thead th {\n",
       "        text-align: right;\n",
       "    }\n",
       "</style>\n",
       "<table border=\"1\" class=\"dataframe\">\n",
       "  <thead>\n",
       "    <tr style=\"text-align: right;\">\n",
       "      <th></th>\n",
       "      <th>carat</th>\n",
       "      <th>cut</th>\n",
       "      <th>color</th>\n",
       "      <th>clarity</th>\n",
       "      <th>depth</th>\n",
       "      <th>table</th>\n",
       "      <th>price</th>\n",
       "      <th>x</th>\n",
       "      <th>y</th>\n",
       "      <th>z</th>\n",
       "      <th>unknownCol</th>\n",
       "    </tr>\n",
       "  </thead>\n",
       "  <tbody>\n",
       "    <tr>\n",
       "      <th>0</th>\n",
       "      <td>0.32</td>\n",
       "      <td>Premium</td>\n",
       "      <td>J</td>\n",
       "      <td>VS2</td>\n",
       "      <td>61.9</td>\n",
       "      <td>58.0</td>\n",
       "      <td>504</td>\n",
       "      <td>4.38</td>\n",
       "      <td>4.35</td>\n",
       "      <td>2.70</td>\n",
       "      <td>5.1</td>\n",
       "    </tr>\n",
       "    <tr>\n",
       "      <th>1</th>\n",
       "      <td>1.50</td>\n",
       "      <td>Good</td>\n",
       "      <td>F</td>\n",
       "      <td>SI2</td>\n",
       "      <td>62.9</td>\n",
       "      <td>59.0</td>\n",
       "      <td>7727</td>\n",
       "      <td>7.19</td>\n",
       "      <td>7.32</td>\n",
       "      <td>4.56</td>\n",
       "      <td>4.9</td>\n",
       "    </tr>\n",
       "    <tr>\n",
       "      <th>2</th>\n",
       "      <td>0.38</td>\n",
       "      <td>Ideal</td>\n",
       "      <td>H</td>\n",
       "      <td>VS1</td>\n",
       "      <td>61.7</td>\n",
       "      <td>55.0</td>\n",
       "      <td>955</td>\n",
       "      <td>4.65</td>\n",
       "      <td>4.70</td>\n",
       "      <td>2.89</td>\n",
       "      <td>4.7</td>\n",
       "    </tr>\n",
       "    <tr>\n",
       "      <th>3</th>\n",
       "      <td>0.53</td>\n",
       "      <td>Ideal</td>\n",
       "      <td>F</td>\n",
       "      <td>VVS1</td>\n",
       "      <td>62.1</td>\n",
       "      <td>53.2</td>\n",
       "      <td>2273</td>\n",
       "      <td>5.17</td>\n",
       "      <td>5.21</td>\n",
       "      <td>3.22</td>\n",
       "      <td>4.6</td>\n",
       "    </tr>\n",
       "    <tr>\n",
       "      <th>4</th>\n",
       "      <td>0.55</td>\n",
       "      <td>Ideal</td>\n",
       "      <td>D</td>\n",
       "      <td>VS2</td>\n",
       "      <td>60.6</td>\n",
       "      <td>56.0</td>\n",
       "      <td>2224</td>\n",
       "      <td>5.30</td>\n",
       "      <td>5.36</td>\n",
       "      <td>3.23</td>\n",
       "      <td>5.0</td>\n",
       "    </tr>\n",
       "  </tbody>\n",
       "</table>\n",
       "</div>"
      ],
      "text/plain": [
       "   carat      cut color clarity  depth  table  price     x     y     z  \\\n",
       "0   0.32  Premium     J     VS2   61.9   58.0    504  4.38  4.35  2.70   \n",
       "1   1.50     Good     F     SI2   62.9   59.0   7727  7.19  7.32  4.56   \n",
       "2   0.38    Ideal     H     VS1   61.7   55.0    955  4.65  4.70  2.89   \n",
       "3   0.53    Ideal     F    VVS1   62.1   53.2   2273  5.17  5.21  3.22   \n",
       "4   0.55    Ideal     D     VS2   60.6   56.0   2224  5.30  5.36  3.23   \n",
       "\n",
       "   unknownCol  \n",
       "0         5.1  \n",
       "1         4.9  \n",
       "2         4.7  \n",
       "3         4.6  \n",
       "4         5.0  "
      ]
     },
     "execution_count": 5,
     "metadata": {},
     "output_type": "execute_result"
    }
   ],
   "source": [
    "import pandas as pd\n",
    "import matplotlib.pyplot as plt\n",
    "\n",
    "df = pd.read_csv('datasetTarea2.csv')\n",
    "print('shape', df.shape)\n",
    "df.head()"
   ]
  },
  {
   "cell_type": "markdown",
   "metadata": {},
   "source": [
    "## Price"
   ]
  },
  {
   "cell_type": "code",
   "execution_count": 85,
   "metadata": {
    "scrolled": true
   },
   "outputs": [
    {
     "data": {
      "image/png": "[encoded data removed]",
      "text/plain": [
       "<Figure size 540x252 with 1 Axes>"
      ]
     },
     "metadata": {
      "needs_background": "light"
     },
     "output_type": "display_data"
    }
   ],
   "source": [
    "plt.hist(df['price'], bins=20)\n",
    "plt.title('price')\n",
    "plt.show()"
   ]
  },
  {
   "cell_type": "code",
   "execution_count": null,
   "metadata": {},
   "outputs": [],
   "source": [
    "'''\n",
    "Opcion 1: Uniforme discreta\n",
    "Facilmente descartable al ver la forma del histograma, no uniforme.\n",
    "\n",
    "Opcion 2: Binomial\n",
    "No es un caso de exito o fracaso, se descarta.\n",
    "\n",
    "Opcion 3: Geometrica\n",
    "Se descarta por su definicion: \"la variable aleatoria  𝑋  es el número de pruebas para que ocurra el \n",
    "primer éxito, es decir, 𝑝(𝑥) cuantifica la probabilidad de que se deban realizar exactamente  𝑥  \n",
    "pruebas para encontrar la primera ocurrencia del evento.\"\n",
    "\n",
    "Opcion 4: Poisson  \n",
    "Poisson trata de medir cuantas ocurrencias de un evento se dan por segmento.\n",
    "\n",
    "𝜇=E(𝑋)=𝜆 \n",
    "𝜎2=Var(𝑋)=𝜆\n",
    "'''"
   ]
  },
  {
   "cell_type": "code",
   "execution_count": 36,
   "metadata": {},
   "outputs": [
    {
     "name": "stdout",
     "output_type": "stream",
     "text": [
      "media = lamba = 3751.065\n",
      "varianza = lamba = 15091369.005804019\n"
     ]
    },
    {
     "data": {
      "image/png": "[encoded data removed]",
      "text/plain": [
       "<Figure size 432x288 with 1 Axes>"
      ]
     },
     "metadata": {
      "needs_background": "light"
     },
     "output_type": "display_data"
    },
    {
     "data": {
      "text/plain": [
       "'\\nComo lamda es igual a la media y a la varianza, un numero grande de media, como 3751 implica varianza grande.\\nSe descarta Poisson, la varianza no es igual a la media.\\n'"
      ]
     },
     "execution_count": 36,
     "metadata": {},
     "output_type": "execute_result"
    }
   ],
   "source": [
    "from scipy.stats import poisson\n",
    "import numpy as np \n",
    "import matplotlib.pyplot as plt\n",
    "\n",
    "u = df['price'].mean()\n",
    "var = df['price'].var()\n",
    "print('media = lamba =', u)\n",
    "print('varianza = lamba =', var)\n",
    "s = np.random.poisson(u, 1000)\n",
    "count, bins, ignored = plt.hist(s, 14, density=True)\n",
    "plt.show()\n",
    "\n",
    "'''\n",
    "Como lamda es igual a la media y a la varianza, un numero grande de media, como 3751 implica varianza grande.\n",
    "Se descarta Poisson, la varianza no es igual a la media.\n",
    "'''\n"
   ]
  },
  {
   "cell_type": "code",
   "execution_count": 107,
   "metadata": {
    "scrolled": true
   },
   "outputs": [
    {
     "name": "stdout",
     "output_type": "stream",
     "text": [
      "[1] media = a * b = 3751.065\n",
      "[2] varianza = a * b^2 = 15091369.005804019\n",
      "de [1] => b = u/a\n",
      "de [2] => var = a * u^2/a^2\n",
      "=> a = u^2/var =  0.9323533622969263\n",
      "=> b = u/a =  4023.222473032064\n"
     ]
    }
   ],
   "source": [
    "import numpy as np\n",
    "import scipy.stats as stats\n",
    "from matplotlib import pyplot as plt\n",
    "'''\n",
    "Opcion 5: Gamma\n",
    "\"Casi toda el área bajo la función de densidad está ubicada cerca del origen y \n",
    "la función de densidad cae gradualmente conforme y aumenta.\"\n",
    "\n",
    "La definicion parece calzar con el comportamiento del los datos viendo el histograma.\n",
    "\n",
    "𝛼 es un parámetro de forma y 𝛽 es un parámetro de escala.\n",
    "\n",
    "𝜇=E(𝑋)=𝛼𝛽 \n",
    "𝜎2=Var(𝑋)=𝛼𝛽^2\n",
    "\n",
    "'''\n",
    "u = df['price'].mean()\n",
    "var = df['price'].var()\n",
    "print('[1] media = a * b =', u)\n",
    "print('[2] varianza = a * b^2 =', var)\n",
    "\n",
    "print('de [1] => b = u/a')\n",
    "print('de [2] => var = a * u^2/a^2')\n",
    "a = u**2/var\n",
    "b = u/a\n",
    "scale = 1/b\n",
    "print('=> a = u^2/var = ', a)\n",
    "print('=> b = u/a = ', b)\n",
    "\n"
   ]
  },
  {
   "cell_type": "code",
   "execution_count": 108,
   "metadata": {
    "scrolled": false
   },
   "outputs": [
    {
     "data": {
      "image/png": "[encoded data removed]",
      "text/plain": [
       "<Figure size 540x252 with 1 Axes>"
      ]
     },
     "metadata": {
      "needs_background": "light"
     },
     "output_type": "display_data"
    }
   ],
   "source": [
    "# Graficando Gamma\n",
    "import scipy.stats as stats\n",
    "import numpy as np\n",
    "import matplotlib.pyplot as plt\n",
    "\n",
    "\n",
    "#distribución gammal con alpha=a y beta=b\n",
    "gamma2 = stats.gamma(a,scale=b)\n",
    "x2= np.linspace(gamma2.ppf(0.01),\n",
    "                gamma2.ppf(0.99), 100)\n",
    "fp2 = gamma2.pdf(x2) # Función de Probabilidad\n",
    "plt.plot(x2, fp2, color=\"green\", label=\"alpha=2\")\n",
    "plt.hist(df['price'], bins=20, density=True)\n",
    "\n",
    "plt.xlim(0, 17500) #0,10\n",
    "plt.rcParams[\"figure.autolayout\"] = True\n",
    "\n",
    "plt.title('Distribución Gamma')\n",
    "plt.ylabel('f(x)')\n",
    "plt.xlabel('x')\n",
    "plt.show()"
   ]
  },
  {
   "cell_type": "code",
   "execution_count": 109,
   "metadata": {
    "scrolled": true
   },
   "outputs": [
    {
     "name": "stdout",
     "output_type": "stream",
     "text": [
      "Como para dist. exponencial => a = 1\n",
      "[1] media = b = 3751.065\n"
     ]
    },
    {
     "data": {
      "image/png": "[encoded data removed]",
      "text/plain": [
       "<Figure size 540x252 with 1 Axes>"
      ]
     },
     "metadata": {
      "needs_background": "light"
     },
     "output_type": "display_data"
    }
   ],
   "source": [
    "'''\n",
    "Opcion 6: Exponencial\n",
    "'''\n",
    "u = df['price'].mean()\n",
    "var = df['price'].var()\n",
    "a = 1\n",
    "print('Como para dist. exponencial => a = 1')\n",
    "print('[1] media = b =', u)\n",
    "b = u\n",
    "\n",
    "gamma2 = stats.gamma(a,scale=b)\n",
    "x2= np.linspace(gamma2.ppf(0.01),\n",
    "                gamma2.ppf(0.99), 100)\n",
    "fp2 = gamma2.pdf(x2) # Función de Probabilidad\n",
    "plt.plot(x2, fp2, color=\"green\", label=\"alpha=2\")\n",
    "plt.hist(df['price'], bins=20, density=True)\n",
    "\n",
    "plt.xlim(0, 17500) #0,10\n",
    "plt.rcParams[\"figure.autolayout\"] = True\n",
    "\n",
    "plt.title('Distribución Exponencial')\n",
    "plt.ylabel('f(x)')\n",
    "plt.xlabel('x')\n",
    "plt.show()"
   ]
  },
  {
   "cell_type": "markdown",
   "metadata": {},
   "source": [
    "Para la columna Price, se selecciona la dist Gamma porque representa mejor comportamiento de los datos bajos (<2000)."
   ]
  }
 ],
 "metadata": {
  "colab": {
   "collapsed_sections": [],
   "name": "Tarea2_EstadisticaParaCienciaDeLosDatos.ipynb",
   "provenance": []
  },
  "kernelspec": {
   "display_name": "Python 3",
   "language": "python",
   "name": "python3"
  },
  "language_info": {
   "codemirror_mode": {
    "name": "ipython",
    "version": 3
   },
   "file_extension": ".py",
   "mimetype": "text/x-python",
   "name": "python",
   "nbconvert_exporter": "python",
   "pygments_lexer": "ipython3",
   "version": "3.8.10"
  }
 },
 "nbformat": 4,
 "nbformat_minor": 1
}
